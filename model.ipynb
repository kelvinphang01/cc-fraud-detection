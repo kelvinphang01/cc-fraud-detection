{
 "cells": [
  {
   "cell_type": "markdown",
   "id": "02b8b391",
   "metadata": {},
   "source": [
    "# Credit Card Fraud Detection Model"
   ]
  },
  {
   "cell_type": "markdown",
   "id": "77b7e19f",
   "metadata": {},
   "source": [
    "## Model training"
   ]
  },
  {
   "cell_type": "code",
   "execution_count": 2,
   "id": "abbf2f90",
   "metadata": {},
   "outputs": [],
   "source": [
    "import pandas as pd\n",
    "from sklearn.ensemble import RandomForestClassifier as RFC\n",
    "from xgboost import XGBClassifier as XGBC\n",
    "import multiprocessing as mp\n",
    "from sklearn.ensemble import VotingClassifier\n",
    "from utils import clean_data, KFold, predict, feature_importance"
   ]
  },
  {
   "cell_type": "markdown",
   "id": "0b4e5780",
   "metadata": {},
   "source": [
    "Load and process train data\n",
    "\n",
    "Data preprocessing (feature engineering, selection) and data cleaning from `utils.py`"
   ]
  },
  {
   "cell_type": "code",
   "execution_count": 3,
   "id": "e693a4af",
   "metadata": {},
   "outputs": [],
   "source": [
    "# Load train data from Kaggle dataset [Credit Card Transactions Fraud Detection Dataset]\n",
    "# Dataset created by KARTIK SHENOY and available under CC0\n",
    "df_train = pd.read_csv('data/fraudTrain.csv')\n",
    "\n",
    "# Clean train data\n",
    "X, y = clean_data(df_train)"
   ]
  },
  {
   "cell_type": "markdown",
   "id": "e1d006e5",
   "metadata": {},
   "source": [
    "Train Random Forest model with different class weights with K-Fold cross-validation"
   ]
  },
  {
   "cell_type": "code",
   "execution_count": 4,
   "id": "0c2ed6ae",
   "metadata": {},
   "outputs": [
    {
     "name": "stdout",
     "output_type": "stream",
     "text": [
      "==============================\n",
      "Class weights: None\n",
      "              precision    recall  f1-score   support\n",
      "\n",
      "           0       1.00      1.00      1.00   1289169\n",
      "           1       0.90      0.68      0.77      7506\n",
      "\n",
      "    accuracy                           1.00   1296675\n",
      "   macro avg       0.95      0.84      0.89   1296675\n",
      "weighted avg       1.00      1.00      1.00   1296675\n",
      "\n",
      "==============================\n",
      "Class weights: {0: 1, 1: 50}\n",
      "              precision    recall  f1-score   support\n",
      "\n",
      "           0       1.00      1.00      1.00   1289169\n",
      "           1       0.78      0.75      0.77      7506\n",
      "\n",
      "    accuracy                           1.00   1296675\n",
      "   macro avg       0.89      0.88      0.88   1296675\n",
      "weighted avg       1.00      1.00      1.00   1296675\n",
      "\n",
      "==============================\n",
      "Class weights: {0: 1, 1: 75}\n",
      "              precision    recall  f1-score   support\n",
      "\n",
      "           0       1.00      1.00      1.00   1289169\n",
      "           1       0.75      0.77      0.76      7506\n",
      "\n",
      "    accuracy                           1.00   1296675\n",
      "   macro avg       0.87      0.88      0.88   1296675\n",
      "weighted avg       1.00      1.00      1.00   1296675\n",
      "\n",
      "==============================\n",
      "Class weights: {0: 1, 1: 100}\n",
      "              precision    recall  f1-score   support\n",
      "\n",
      "           0       1.00      1.00      1.00   1289169\n",
      "           1       0.70      0.78      0.74      7506\n",
      "\n",
      "    accuracy                           1.00   1296675\n",
      "   macro avg       0.85      0.89      0.87   1296675\n",
      "weighted avg       1.00      1.00      1.00   1296675\n",
      "\n"
     ]
    }
   ],
   "source": [
    "## Random Forest\n",
    "# RFC list for different class weights\n",
    "rf_classifiers = []\n",
    "rfc_class_weights = [None, {0: 1, 1: 50}, {0: 1, 1: 75}, {0: 1, 1: 100}]\n",
    "\n",
    "# Define model with parameters\n",
    "for cw in rfc_class_weights:\n",
    "    rf_params = {\n",
    "        'n_estimators': 50,\n",
    "        'max_depth': 20,\n",
    "        'class_weight': cw,\n",
    "        'random_state': 42,\n",
    "        'n_jobs': mp.cpu_count()\n",
    "        }\n",
    "    \n",
    "    rf_classifier = RFC(**rf_params)\n",
    "    rf_classifiers.append(rf_classifier)\n",
    "    KFold(rf_classifier, cw, X, y)"
   ]
  },
  {
   "cell_type": "markdown",
   "id": "a1c127b8",
   "metadata": {},
   "source": [
    "The same for XGBoost"
   ]
  },
  {
   "cell_type": "code",
   "execution_count": null,
   "id": "c40a4c9e",
   "metadata": {},
   "outputs": [],
   "source": [
    "## XGBoost\n",
    "# XGBC list for different class weights\n",
    "xgb_classifiers = []\n",
    "xgbc_class_weights = [None, 10, 20, 30]\n",
    "\n",
    "# Define model with parameters\n",
    "for cw in xgbc_class_weights:\n",
    "    xgb_params = {\n",
    "        'max_depth': 20,\n",
    "        'n_estimators': 50,\n",
    "        'learning_rate': 0.1,\n",
    "        'subsample': 0.8,\n",
    "        'colsample_bytree': 0.8,\n",
    "        'scale_pos_weight': cw,\n",
    "        'random_state': 42,\n",
    "        'n_jobs': -1\n",
    "        }\n",
    "    \n",
    "    xgb_classifier = XGBC(**xgb_params)\n",
    "    xgb_classifiers.append(xgb_classifier)\n",
    "    KFold(xgb_classifier, cw, X, y)"
   ]
  },
  {
   "cell_type": "markdown",
   "id": "8d6c69a9",
   "metadata": {},
   "source": [
    "All models look good and will be used for deployment. (Stored in lists)"
   ]
  },
  {
   "cell_type": "markdown",
   "id": "c0af7957",
   "metadata": {},
   "source": [
    "## Deployment on test data"
   ]
  },
  {
   "cell_type": "markdown",
   "id": "ed6e1a7e",
   "metadata": {},
   "source": [
    "Load and process test data"
   ]
  },
  {
   "cell_type": "code",
   "execution_count": null,
   "id": "d6deaf63",
   "metadata": {},
   "outputs": [],
   "source": [
    "# Load test data from Kaggle dataset [Credit Card Transactions Fraud Detection Dataset]\n",
    "# Dataset created by KARTIK SHENOY and available under CC0\n",
    "df_test = pd.read_csv('data/fraudTest.csv')\n",
    "\n",
    "# Clean test data\n",
    "X_test, y_test = clean_data(df_test)"
   ]
  },
  {
   "cell_type": "markdown",
   "id": "36a085d6",
   "metadata": {},
   "source": [
    "Make predictions with Random Forest models and XGBoost models respectively.\n",
    "\n",
    "Savings are calculated through *total detected fraud amount* - *total cost of false detections*."
   ]
  },
  {
   "cell_type": "markdown",
   "id": "96064a5d",
   "metadata": {},
   "source": [
    "Random Forest models:"
   ]
  },
  {
   "cell_type": "code",
   "execution_count": null,
   "id": "33ad36d8",
   "metadata": {},
   "outputs": [],
   "source": [
    "# Predict with Random Forest\n",
    "rfc_best = None\n",
    "for idx, rfc in enumerate(rf_classifiers):\n",
    "    \n",
    "    # Fit the model\n",
    "    rfc.fit(X, y)\n",
    "    \n",
    "    # Predict\n",
    "    y_pred = rfc.predict(X_test)\n",
    "    \n",
    "    # Predict and best RFC\n",
    "    if not rfc_best:\n",
    "        rfc_best = rfc\n",
    "        savings_best = predict(y_pred, rfc_class_weights, rfc, X_test, y_test, idx)\n",
    "    else:\n",
    "        total_savings = predict(y_pred, rfc_class_weights, rfc, X_test, y_test, idx)\n",
    "        if total_savings > savings_best:\n",
    "            rfc_best = rfc\n",
    "            savings_best = total_savings"
   ]
  },
  {
   "cell_type": "markdown",
   "id": "0df1d583",
   "metadata": {},
   "source": [
    "Feature importance of best Random Forest model:"
   ]
  },
  {
   "cell_type": "code",
   "execution_count": null,
   "id": "db972abc",
   "metadata": {},
   "outputs": [],
   "source": [
    "feature_importance(rfc_best, X) # Feature importance"
   ]
  },
  {
   "cell_type": "markdown",
   "id": "79227cf3",
   "metadata": {},
   "source": [
    "XGBoost models:"
   ]
  },
  {
   "cell_type": "code",
   "execution_count": null,
   "id": "be6d949c",
   "metadata": {},
   "outputs": [],
   "source": [
    "# Predict with XGBoost\n",
    "xgbc_best = None\n",
    "for idx, xgbc in enumerate(xgb_classifiers):\n",
    "    \n",
    "    # Fit the model\n",
    "    xgbc.fit(X, y)\n",
    "    \n",
    "    # Predict\n",
    "    y_pred = xgbc.predict(X_test)\n",
    "    \n",
    "    # Predict and best RFC\n",
    "    if not xgbc_best:\n",
    "        xgbc_best = xgbc\n",
    "        savings_best = predict(y_pred, xgbc_class_weights, xgbc, X_test, y_test, idx)\n",
    "    else:\n",
    "        total_savings = predict(y_pred, xgbc_class_weights, xgbc, X_test, y_test, idx)\n",
    "        if total_savings > savings_best:\n",
    "            xgbc_best = xgbc\n",
    "            savings_best = total_savings"
   ]
  },
  {
   "cell_type": "markdown",
   "id": "0b47e21b",
   "metadata": {},
   "source": [
    "Feature importance of best XGBoost model:"
   ]
  },
  {
   "cell_type": "code",
   "execution_count": null,
   "id": "48853084",
   "metadata": {},
   "outputs": [],
   "source": [
    "feature_importance(xgbc_best, X) # Feature importance"
   ]
  },
  {
   "cell_type": "markdown",
   "id": "769b9d70",
   "metadata": {},
   "source": [
    "Combine both models into an ensemble learning model and make predictions"
   ]
  },
  {
   "cell_type": "code",
   "execution_count": null,
   "id": "688a08df",
   "metadata": {},
   "outputs": [],
   "source": [
    "# Create a VotingClassifier with the cross-validated predictions as inputs\n",
    "voting_classifier = VotingClassifier(\n",
    "    estimators=[('random_forest', rfc_best), ('xgboost', xgbc_best)],\n",
    "    voting='soft',\n",
    "    weights=[1, 1]\n",
    ")\n",
    "\n",
    "# Train the VotingClassifier on the entire training dataset\n",
    "voting_classifier.fit(X, y)\n",
    "\n",
    "# Ensemble model\n",
    "ensemble_preds = voting_classifier.predict(X_test)\n",
    "predict(ensemble_preds, None, voting_classifier, X_test, y_test, None)"
   ]
  },
  {
   "cell_type": "markdown",
   "id": "9f6ee955",
   "metadata": {},
   "source": [
    "Best model is achieved."
   ]
  },
  {
   "cell_type": "code",
   "execution_count": null,
   "id": "4178abd2",
   "metadata": {},
   "outputs": [],
   "source": []
  }
 ],
 "metadata": {
  "kernelspec": {
   "display_name": "Python 3 (ipykernel)",
   "language": "python",
   "name": "python3"
  },
  "language_info": {
   "codemirror_mode": {
    "name": "ipython",
    "version": 3
   },
   "file_extension": ".py",
   "mimetype": "text/x-python",
   "name": "python",
   "nbconvert_exporter": "python",
   "pygments_lexer": "ipython3",
   "version": "3.8.13"
  }
 },
 "nbformat": 4,
 "nbformat_minor": 5
}
